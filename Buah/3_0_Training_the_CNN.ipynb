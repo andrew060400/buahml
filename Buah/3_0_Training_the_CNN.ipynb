{
 "cells": [
  {
   "attachments": {},
   "cell_type": "markdown",
   "metadata": {},
   "source": [
    "# Convolutional Neural Network Architecture\n"
   ]
  },
  {
   "cell_type": "code",
   "execution_count": 1,
   "metadata": {
    "colab": {},
    "colab_type": "code",
    "id": "qLgXb1phenfr"
   },
   "outputs": [],
   "source": [
    "import numpy as np\n",
    "\n",
    "data=np.load('data.npy')\n",
    "target=np.load('target.npy')"
   ]
  },
  {
   "cell_type": "code",
   "execution_count": 2,
   "metadata": {
    "colab": {
     "base_uri": "https://localhost:8080/",
     "height": 717
    },
    "colab_type": "code",
    "id": "ertMpl3renfx",
    "outputId": "b9281743-2e68-4cb3-d16f-2b46fcc2bbbf"
   },
   "outputs": [
    {
     "name": "stderr",
     "output_type": "stream",
     "text": [
      "Using TensorFlow backend.\n"
     ]
    },
    {
     "name": "stdout",
     "output_type": "stream",
     "text": [
      "Model: \"sequential_1\"\n",
      "_________________________________________________________________\n",
      "Layer (type)                 Output Shape              Param #   \n",
      "=================================================================\n",
      "model_1 (Model)              (None, 100, 100, 384)     11008     \n",
      "_________________________________________________________________\n",
      "conv2d_4 (Conv2D)            (None, 98, 98, 64)        221248    \n",
      "_________________________________________________________________\n",
      "activation_1 (Activation)    (None, 98, 98, 64)        0         \n",
      "_________________________________________________________________\n",
      "max_pooling2d_1 (MaxPooling2 (None, 49, 49, 64)        0         \n",
      "_________________________________________________________________\n",
      "conv2d_5 (Conv2D)            (None, 47, 47, 32)        18464     \n",
      "_________________________________________________________________\n",
      "activation_2 (Activation)    (None, 47, 47, 32)        0         \n",
      "_________________________________________________________________\n",
      "max_pooling2d_2 (MaxPooling2 (None, 23, 23, 32)        0         \n",
      "_________________________________________________________________\n",
      "flatten_1 (Flatten)          (None, 16928)             0         \n",
      "_________________________________________________________________\n",
      "dropout_1 (Dropout)          (None, 16928)             0         \n",
      "_________________________________________________________________\n",
      "dense_1 (Dense)              (None, 128)               2166912   \n",
      "_________________________________________________________________\n",
      "dropout_2 (Dropout)          (None, 128)               0         \n",
      "_________________________________________________________________\n",
      "dense_2 (Dense)              (None, 64)                8256      \n",
      "_________________________________________________________________\n",
      "dropout_3 (Dropout)          (None, 64)                0         \n",
      "_________________________________________________________________\n",
      "dense_3 (Dense)              (None, 7)                 455       \n",
      "=================================================================\n",
      "Total params: 2,426,343\n",
      "Trainable params: 2,426,343\n",
      "Non-trainable params: 0\n",
      "_________________________________________________________________\n"
     ]
    },
    {
     "name": "stderr",
     "output_type": "stream",
     "text": [
      "<ipython-input-2-5241a51932b2>:17: UserWarning: Update your `Conv2D` call to the Keras 2 API: `Conv2D(128, 3, activation=\"relu\", input_shape=(100, 100,..., strides=1, padding=\"same\")`\n",
      "  conv = Conv2D(128, parrallel_kernels[k],border_mode='same',activation='relu',input_shape=input_shape,strides=1)(inp)\n",
      "<ipython-input-2-5241a51932b2>:17: UserWarning: Update your `Conv2D` call to the Keras 2 API: `Conv2D(128, 5, activation=\"relu\", input_shape=(100, 100,..., strides=1, padding=\"same\")`\n",
      "  conv = Conv2D(128, parrallel_kernels[k],border_mode='same',activation='relu',input_shape=input_shape,strides=1)(inp)\n",
      "<ipython-input-2-5241a51932b2>:17: UserWarning: Update your `Conv2D` call to the Keras 2 API: `Conv2D(128, 7, activation=\"relu\", input_shape=(100, 100,..., strides=1, padding=\"same\")`\n",
      "  conv = Conv2D(128, parrallel_kernels[k],border_mode='same',activation='relu',input_shape=input_shape,strides=1)(inp)\n",
      "<ipython-input-2-5241a51932b2>:21: UserWarning: Update your `Model` call to the Keras 2 API: `Model(inputs=Tensor(\"in..., outputs=Tensor(\"co...)`\n",
      "  conv_model = Model(input=inp, output=out)\n"
     ]
    }
   ],
   "source": [
    "from keras.models import Sequential,Model\n",
    "from keras.layers import Dense, Dropout, Flatten\n",
    "from keras.layers import Conv2D,Activation,MaxPooling2D\n",
    "from keras.utils import normalize\n",
    "from keras.layers import Concatenate\n",
    "from keras import Input\n",
    "from keras.callbacks import ModelCheckpoint\n",
    "\n",
    "input_shape=data.shape[1:] #50,50,1\n",
    "inp=Input(shape=input_shape)\n",
    "convs=[]\n",
    "\n",
    "parrallel_kernels=[3,5,7]\n",
    "\n",
    "for k in range(len(parrallel_kernels)):\n",
    "\n",
    "    conv = Conv2D(128, parrallel_kernels[k],border_mode='same',activation='relu',input_shape=input_shape,strides=1)(inp)\n",
    "    convs.append(conv)\n",
    "\n",
    "out = Concatenate()(convs)\n",
    "conv_model = Model(input=inp, output=out)\n",
    "\n",
    "model = Sequential()\n",
    "model.add(conv_model)\n",
    "\n",
    "model.add(Conv2D(64,(3,3)))\n",
    "model.add(Activation('relu'))\n",
    "model.add(MaxPooling2D(pool_size=(2,2)))\n",
    "\n",
    "model.add(Conv2D(32,(3,3)))\n",
    "model.add(Activation('relu'))\n",
    "model.add(MaxPooling2D(pool_size=(2,2)))\n",
    "\n",
    "model.add(Flatten())\n",
    "model.add(Dropout(0.5))\n",
    "model.add(Dense(128,activation='relu'))\n",
    "model.add(Dropout(0.5))\n",
    "model.add(Dense(64,activation='relu'))\n",
    "model.add(Dropout(0.5))\n",
    "model.add(Dense(7,input_dim=128,activation='softmax'))\n",
    "model.compile(loss='categorical_crossentropy',optimizer='adam',metrics=['accuracy'])\n",
    "\n",
    "model.summary()"
   ]
  },
  {
   "cell_type": "code",
   "execution_count": 3,
   "metadata": {
    "colab": {},
    "colab_type": "code",
    "id": "WQkqpg28engN"
   },
   "outputs": [],
   "source": [
    "from sklearn.model_selection import train_test_split\n",
    "\n",
    "train_data,test_data,train_target,test_target=train_test_split(data,target,test_size=0.1)"
   ]
  },
  {
   "cell_type": "code",
   "execution_count": 4,
   "metadata": {
    "colab": {
     "base_uri": "https://localhost:8080/",
     "height": 714
    },
    "colab_type": "code",
    "id": "wo2sqr4CengR",
    "outputId": "3de2ac82-256a-432b-ff0c-fcddd94493da"
   },
   "outputs": [
    {
     "name": "stdout",
     "output_type": "stream",
     "text": [
      "Train on 480 samples, validate on 54 samples\n",
      "Epoch 1/20\n",
      "480/480 [==============================] - 63s 132ms/step - loss: 1.9768 - accuracy: 0.1708 - val_loss: 1.8818 - val_accuracy: 0.1481\n",
      "Epoch 2/20\n",
      "480/480 [==============================] - 57s 120ms/step - loss: 1.8913 - accuracy: 0.1792 - val_loss: 1.8798 - val_accuracy: 0.1296\n",
      "Epoch 3/20\n",
      "480/480 [==============================] - 57s 120ms/step - loss: 1.8916 - accuracy: 0.1646 - val_loss: 1.8537 - val_accuracy: 0.1296\n",
      "Epoch 4/20\n",
      "480/480 [==============================] - 58s 121ms/step - loss: 1.8817 - accuracy: 0.2021 - val_loss: 1.8417 - val_accuracy: 0.1296\n",
      "Epoch 5/20\n",
      "480/480 [==============================] - 58s 121ms/step - loss: 1.8129 - accuracy: 0.2396 - val_loss: 1.7744 - val_accuracy: 0.2593\n",
      "Epoch 6/20\n",
      "480/480 [==============================] - 58s 120ms/step - loss: 1.7242 - accuracy: 0.2604 - val_loss: 1.5857 - val_accuracy: 0.2778\n",
      "Epoch 7/20\n",
      "480/480 [==============================] - 57s 119ms/step - loss: 1.6948 - accuracy: 0.2417 - val_loss: 1.6032 - val_accuracy: 0.3333\n",
      "Epoch 8/20\n",
      "480/480 [==============================] - 57s 119ms/step - loss: 1.6327 - accuracy: 0.3125 - val_loss: 1.3898 - val_accuracy: 0.3704\n",
      "Epoch 9/20\n",
      "480/480 [==============================] - 57s 119ms/step - loss: 1.5593 - accuracy: 0.3292 - val_loss: 1.4275 - val_accuracy: 0.3704\n",
      "Epoch 10/20\n",
      "480/480 [==============================] - 58s 120ms/step - loss: 1.5263 - accuracy: 0.3458 - val_loss: 1.4794 - val_accuracy: 0.2963\n",
      "Epoch 11/20\n",
      "480/480 [==============================] - 58s 120ms/step - loss: 1.4413 - accuracy: 0.3688 - val_loss: 1.3454 - val_accuracy: 0.4074\n",
      "Epoch 12/20\n",
      "480/480 [==============================] - 57s 120ms/step - loss: 1.4291 - accuracy: 0.3792 - val_loss: 1.3657 - val_accuracy: 0.4815\n",
      "Epoch 13/20\n",
      "480/480 [==============================] - 57s 119ms/step - loss: 1.3542 - accuracy: 0.4021 - val_loss: 1.3476 - val_accuracy: 0.4815\n",
      "Epoch 14/20\n",
      "480/480 [==============================] - 57s 120ms/step - loss: 1.3857 - accuracy: 0.3812 - val_loss: 1.2838 - val_accuracy: 0.4815\n",
      "Epoch 15/20\n",
      "480/480 [==============================] - 57s 120ms/step - loss: 1.3873 - accuracy: 0.4354 - val_loss: 1.2462 - val_accuracy: 0.5185\n",
      "Epoch 16/20\n",
      "480/480 [==============================] - 58s 120ms/step - loss: 1.2133 - accuracy: 0.4958 - val_loss: 1.2577 - val_accuracy: 0.4815\n",
      "Epoch 17/20\n",
      "480/480 [==============================] - 57s 119ms/step - loss: 1.1506 - accuracy: 0.5500 - val_loss: 1.1562 - val_accuracy: 0.6296\n",
      "Epoch 18/20\n",
      "480/480 [==============================] - 57s 119ms/step - loss: 1.2025 - accuracy: 0.5208 - val_loss: 1.1194 - val_accuracy: 0.6481\n",
      "Epoch 19/20\n",
      "480/480 [==============================] - 57s 120ms/step - loss: 1.1130 - accuracy: 0.5625 - val_loss: 1.2719 - val_accuracy: 0.5926\n",
      "Epoch 20/20\n",
      "480/480 [==============================] - 57s 120ms/step - loss: 1.1243 - accuracy: 0.5521 - val_loss: 1.0426 - val_accuracy: 0.6852\n"
     ]
    }
   ],
   "source": [
    "checkpoint = ModelCheckpoint('model-{epoch:03d}.model',monitor='val_loss',verbose=0,save_best_only=True,mode='auto')\n",
    "history=model.fit(train_data,train_target,epochs=20,callbacks=[checkpoint],validation_split=0.1)"
   ]
  },
  {
   "cell_type": "code",
   "execution_count": 5,
   "metadata": {
    "colab": {
     "base_uri": "https://localhost:8080/",
     "height": 279
    },
    "colab_type": "code",
    "id": "F0lkS8paengW",
    "outputId": "9374bed5-8262-4516-ecfd-06a611acb924"
   },
   "outputs": [
    {
     "data": {
      "image/png": "[encoded data removed]",
      "text/plain": [
       "<Figure size 432x288 with 1 Axes>"
      ]
     },
     "metadata": {
      "needs_background": "light"
     },
     "output_type": "display_data"
    }
   ],
   "source": [
    "from matplotlib import pyplot as plt\n",
    "\n",
    "plt.plot(history.history['loss'],'r',label='training loss')\n",
    "plt.plot(history.history['val_loss'],label='validation loss')\n",
    "plt.xlabel('# epochs')\n",
    "plt.ylabel('loss')\n",
    "plt.legend()\n",
    "plt.show()"
   ]
  },
  {
   "cell_type": "code",
   "execution_count": 6,
   "metadata": {
    "colab": {
     "base_uri": "https://localhost:8080/",
     "height": 279
    },
    "colab_type": "code",
    "id": "gU5uAPX4pBgq",
    "outputId": "b7e4e36b-e260-4635-e640-41578bc752dc"
   },
   "outputs": [
    {
     "data": {
      "image/png": "[encoded data removed]",
      "text/plain": [
       "<Figure size 432x288 with 1 Axes>"
      ]
     },
     "metadata": {
      "needs_background": "light"
     },
     "output_type": "display_data"
    }
   ],
   "source": [
    "plt.plot(history.history['accuracy'],'r',label='training accuracy')\n",
    "plt.plot(history.history['val_accuracy'],label='validation accuracy')\n",
    "plt.xlabel('# epochs')\n",
    "plt.ylabel('loss')\n",
    "plt.legend()\n",
    "plt.show()"
   ]
  },
  {
   "cell_type": "code",
   "execution_count": 7,
   "metadata": {
    "colab": {
     "base_uri": "https://localhost:8080/",
     "height": 51
    },
    "colab_type": "code",
    "id": "66XB-M0NpEIR",
    "outputId": "4facb8ee-41cd-46b2-c237-27b548c85e2a"
   },
   "outputs": [
    {
     "name": "stdout",
     "output_type": "stream",
     "text": [
      "60/60 [==============================] - 1s 24ms/step\n",
      "[1.3877132972081503, 0.4833333194255829]\n"
     ]
    }
   ],
   "source": [
    "print(model.evaluate(test_data,test_target))"
   ]
  }
 ],
 "metadata": {
  "accelerator": "GPU",
  "colab": {
   "name": "3.0 Training the CNN.ipynb",
   "provenance": []
  },
  "kernelspec": {
   "display_name": "Python 3",
   "language": "python",
   "name": "python3"
  },
  "language_info": {
   "codemirror_mode": {
    "name": "ipython",
    "version": 3
   },
   "file_extension": ".py",
   "mimetype": "text/x-python",
   "name": "python",
   "nbconvert_exporter": "python",
   "pygments_lexer": "ipython3",
   "version": "3.8.6"
  }
 },
 "nbformat": 4,
 "nbformat_minor": 1
}
